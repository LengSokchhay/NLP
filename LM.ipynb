{
 "cells": [
  {
   "cell_type": "markdown",
   "metadata": {},
   "source": [
    "### 1. Download dataset from wiki"
   ]
  },
  {
   "cell_type": "code",
   "execution_count": 3,
   "metadata": {},
   "outputs": [],
   "source": [
    "import wikipediaapi\n",
    "\n",
    "# Initialize the Wikipedia API with the desired language and user-agent\n",
    "wiki_api = wikipediaapi.Wikipedia(\n",
    "    language=\"en\",\n",
    "    user_agent=\"YourAppName/1.0 (your-email@example.com)\"\n",
    ")\n",
    "\n",
    "# Specify the topic to retrieve\n",
    "topic_name = \"Institute of Technology of Cambodia\"\n",
    "wiki_page = wiki_api.page(topic_name)\n",
    "\n",
    "# Check if the page exists and save its content to a file\n",
    "if wiki_page.exists():\n",
    "    with open(\"./data2/wiki_dataset.txt\", \"w\", encoding=\"utf-8\") as output_file:\n",
    "        output_file.write(wiki_page.text)\n",
    "else:\n",
    "    print(f\"The page '{topic_name}' does not exist.\")\n"
   ]
  },
  {
   "cell_type": "markdown",
   "metadata": {},
   "source": [
    "### 2. Clean dataset\n"
   ]
  },
  {
   "cell_type": "code",
   "execution_count": 4,
   "metadata": {},
   "outputs": [],
   "source": [
    "import re\n",
    "\n",
    "def clean_wikipedia_text(text):\n",
    "    # Remove citations like [1], [2][3], [citation needed]\n",
    "    text = re.sub(r'\\[[^\\]]+\\]', '', text)\n",
    "    \n",
    "    # Remove URLs\n",
    "    text = re.sub(r'http[s]?://\\S+', '', text)\n",
    "    \n",
    "    # Remove parenthetical information\n",
    "    text = re.sub(r'\\([^)]*\\)', '', text)\n",
    "    \n",
    "    # Remove special formatting (e.g., ''italic'' or '''bold''')\n",
    "    text = re.sub(r\"''+|\\<.*?\\>\", '', text)\n",
    "    \n",
    "    # Remove extra whitespace\n",
    "    text = re.sub(r'\\s+', ' ', text).strip()\n",
    "    \n",
    "    # Remove lines starting with special characters (-, *, digits)\n",
    "    text = '\\n'.join(line for line in text.split('\\n') if not line.strip().startswith(('-', '*', '1.')))\n",
    "    \n",
    "    return text\n",
    "\n",
    "# Load text and clean\n",
    "with open('data2/wiki_dataset.txt', 'r', encoding='utf-8') as file:\n",
    "    raw_text = file.read()\n",
    "\n",
    "cleaned_text = clean_wikipedia_text(raw_text)\n",
    "\n",
    "# Save cleaned text\n",
    "with open('data2/cleaned_wiki_text.txt', 'w', encoding='utf-8') as file:\n",
    "    file.write(cleaned_text)"
   ]
  },
  {
   "cell_type": "markdown",
   "metadata": {},
   "source": [
    "### 3. Spit data into 3 subset for training, testing and validation "
   ]
  },
  {
   "cell_type": "code",
   "execution_count": 3,
   "metadata": {},
   "outputs": [
    {
     "name": "stdout",
     "output_type": "stream",
     "text": [
      "Total sentences: 42\n",
      "Training set: 29 sentences\n",
      "Validation set: 4 sentences\n",
      "Testing set: 9 sentences\n"
     ]
    },
    {
     "name": "stderr",
     "output_type": "stream",
     "text": [
      "[nltk_data] Downloading package punkt to\n",
      "[nltk_data]     C:\\Users\\maste\\AppData\\Roaming\\nltk_data...\n",
      "[nltk_data]   Package punkt is already up-to-date!\n",
      "[nltk_data] Downloading package punkt_tab to\n",
      "[nltk_data]     C:\\Users\\maste\\AppData\\Roaming\\nltk_data...\n",
      "[nltk_data]   Package punkt_tab is already up-to-date!\n"
     ]
    }
   ],
   "source": [
    "import nltk\n",
    "import random\n",
    "import re\n",
    "from nltk.tokenize import word_tokenize, sent_tokenize\n",
    "\n",
    "# Download the punkt tokenizer\n",
    "nltk.download('punkt')\n",
    "nltk.download('punkt_tab')\n",
    "\n",
    "# Load and preprocess corpus\n",
    "with open('data2/cleaned_wiki_text.txt', 'r', encoding='utf-8') as file:\n",
    "    corpus = file.read()\n",
    "\n",
    "# Clean up text: remove extra newlines and leading/trailing spaces\n",
    "corpus = re.sub(r'\\n+', ' ', corpus).strip()  \n",
    "corpus = re.sub(r'\\s+', ' ', corpus)  # Replace multiple spaces with a single space\n",
    "\n",
    "# Split into sentences\n",
    "sentences = sent_tokenize(corpus)\n",
    "\n",
    "# Remove empty sentences\n",
    "sentences = [sentence.strip() for sentence in sentences if sentence.strip()]\n",
    "\n",
    "# Shuffle sentences\n",
    "random.shuffle(sentences)\n",
    "\n",
    "# Split into training, validation, and testing sets\n",
    "train_split = int(0.7 * len(sentences))\n",
    "val_split = int(0.8 * len(sentences))\n",
    "\n",
    "train_set = sentences[:train_split]\n",
    "val_set = sentences[train_split:val_split]\n",
    "test_set = sentences[val_split:]\n",
    "\n",
    "# Verify results\n",
    "print(f\"Total sentences: {len(sentences)}\")\n",
    "print(f\"Training set: {len(train_set)} sentences\")\n",
    "print(f\"Validation set: {len(val_set)} sentences\")\n",
    "print(f\"Testing set: {len(test_set)} sentences\")\n",
    "\n",
    "# Optional: Save the sets to files for further use\n",
    "with open('data2/wiki_article/train_set.txt', 'w', encoding='utf-8') as file:\n",
    "    file.write('. '.join(train_set) + '.')\n",
    "\n",
    "with open('data2/wiki_article/val_set.txt', 'w', encoding='utf-8') as file:\n",
    "    file.write('. '.join(val_set) + '.')\n",
    "\n",
    "with open('data2/wiki_article/test_set.txt', 'w', encoding='utf-8') as file:\n",
    "    file.write('. '.join(test_set) + '.')\n"
   ]
  },
  {
   "cell_type": "markdown",
   "metadata": {},
   "source": [
    "### 4. Limit vocabulary size and replace with unknown"
   ]
  },
  {
   "cell_type": "code",
   "execution_count": null,
   "metadata": {},
   "outputs": [],
   "source": [
    "import re\n",
    "from collections import Counter\n",
    "\n",
    "# Tokenize\n",
    "tokens = word_tokenize(' '.join(train_set))\n",
    "vocab_size = 10000\n",
    "token_counts = Counter(tokens)\n",
    "vocab = {word for word, _ in token_counts.most_common(vocab_size)}\n",
    "\n",
    "# Clean up unwanted characters\n",
    "def clean_tokens(tokens):\n",
    "    cleaned = []\n",
    "    for sentence in tokens:\n",
    "        cleaned_sentence = [re.sub(r'[^\\w.]', '', word) for word in sentence]  # Keep only words and periods\n",
    "        cleaned_sentence = [word for word in cleaned_sentence if word]  # Remove empty tokens\n",
    "        cleaned.append(cleaned_sentence)\n",
    "    return cleaned\n",
    "\n",
    "# Replace words not in vocab with <UNK> and clean\n",
    "def replace_with_unk(data):\n",
    "    return [\n",
    "        [word if word in vocab else '<UNK>' for word in word_tokenize(sentence)]\n",
    "        for sentence in data\n",
    "    ]\n",
    "\n",
    "train_tokens = replace_with_unk(train_set)\n",
    "val_tokens = replace_with_unk(val_set)\n",
    "test_tokens = replace_with_unk(test_set)\n",
    "\n",
    "# Clean the tokenized data\n",
    "train_tokens = clean_tokens(train_tokens)\n",
    "val_tokens = clean_tokens(val_tokens)\n",
    "test_tokens = clean_tokens(test_tokens)\n",
    "\n",
    "# Check results\n",
    "print(train_tokens[:10])  # Show first 10 sentences from train_tokens\n",
    "print(val_tokens[:10])    # Show first 10 sentences from val_tokens\n",
    "print(test_tokens[:10])   # Show first 10 sentences from test_tokens\n",
    "print(len(train_tokens))"
   ]
  },
  {
   "cell_type": "code",
   "execution_count": null,
   "metadata": {},
   "outputs": [],
   "source": [
    "import pandas as pd \n",
    "from collections import Counter \n",
    "from nltk.tokenize import word_tokenize\n",
    "from itertools import chain\n",
    "\n",
    "flattened_tokens = list(chain.from_iterable(train_tokens))\n",
    "word_counts = Counter(flattened_tokens)\n",
    "tokens = word_tokenize(corpus.lower()) \n",
    "df = pd.DataFrame(word_counts.items(),columns=['word','Frequency'])\n",
    "df = df.sort_values(by='Frequency', ascending=False).reset_index(drop=True)\n",
    "\n",
    "# Display the DataFrame\n",
    "print(df)\n",
    "for word, count in word_counts.items():\n",
    "    print(f'{word}: {count}')\n",
    "print(len(tokens))"
   ]
  },
  {
   "cell_type": "markdown",
   "metadata": {},
   "source": [
    "### 5. Create two language model"
   ]
  },
  {
   "cell_type": "code",
   "execution_count": null,
   "metadata": {},
   "outputs": [],
   "source": [
    "from collections import defaultdict\n",
    "def build_ngram_model(data, n):\n",
    "    model = defaultdict(lambda: defaultdict(int))\n",
    "    for sentence in data:\n",
    "        for i in range(len(sentence) - n + 1):\n",
    "            ngram = tuple(sentence[i:i+n])\n",
    "            prefix, token = ngram[:-1], ngram[-1]\n",
    "            model[prefix][token] += 1\n",
    "    return model\n",
    "\n",
    "# Build the LM1 Backoff mothod\n",
    "def backoff_prob(model, ngram):\n",
    "    prefix, token = ngram[:-1], ngram[-1]\n",
    "    if prefix in model and sum(model[prefix].values()) > 0:\n",
    "        if token in model[prefix]:\n",
    "            return model[prefix][token] / sum(model[prefix].values())\n",
    "    elif len(prefix) > 1:\n",
    "        return backoff_prob(model, prefix[1:] + (token,))\n",
    "    return 0  # Default probability if no valid prefix or tokens\n",
    "\n",
    "ngram_model = build_ngram_model(train_tokens, 4)\n",
    "\n",
    "# Build the LM2 interpolated method\n",
    "def interpolated_prob(model, ngram, lambdas, k):\n",
    "    n = len(ngram)\n",
    "    prob = 0\n",
    "    for i in range(1, n+1):\n",
    "        prefix, token = ngram[:i-1], ngram[i-1]\n",
    "        count = model[prefix][token] + k\n",
    "        total_count = sum(model[prefix].values()) + k * vocab_size\n",
    "        prob += lambdas[i-1] * (count / total_count)\n",
    "    return prob\n",
    "\n",
    "lambdas = [0.1, 0.2, 0.3, 0.4]  # Example weights\n",
    "k = 0.001  # Example smoothing parameter\n"
   ]
  },
  {
   "cell_type": "markdown",
   "metadata": {},
   "source": [
    "### 6. Evaluation with perplexity on both model"
   ]
  },
  {
   "cell_type": "code",
   "execution_count": null,
   "metadata": {},
   "outputs": [],
   "source": [
    "import math\n",
    "import numpy as np\n",
    "\n",
    "def perplexity(model, tokens, prob_func):\n",
    "    log_prob_sum = 0\n",
    "    total_tokens = 0\n",
    "    \n",
    "    for sentence in tokens:\n",
    "        for i in range(3, len(sentence)):\n",
    "            # Create n-gram\n",
    "            ngram = tuple(sentence[i-3:i+1])\n",
    "            \n",
    "            try:\n",
    "                # Calculate probability\n",
    "                prob = prob_func(model, ngram)\n",
    "                \n",
    "                # Handle zero or negative probabilities\n",
    "                if prob <= 0:\n",
    "                    prob = 1e-10  # Small positive value\n",
    "                \n",
    "                # Sum log probabilities\n",
    "                log_prob = math.log2(prob)\n",
    "                log_prob_sum += log_prob\n",
    "                total_tokens += 1\n",
    "            \n",
    "            except Exception as e:\n",
    "                print(f\"Error processing n-gram {ngram}: {e}\")\n",
    "                continue\n",
    "    \n",
    "    # Avoid division by zero\n",
    "    if total_tokens == 0:\n",
    "        return float('inf')\n",
    "    \n",
    "    # Calculate perplexity\n",
    "    perplexity_score = 2 ** (-log_prob_sum / total_tokens)\n",
    "    \n",
    "    return perplexity_score\n",
    "\n",
    "pp_lm1 = perplexity(model=ngram_model, tokens=test_tokens, prob_func=backoff_prob)\n",
    "pp_lm2 = perplexity(ngram_model, test_tokens, lambda m, n: interpolated_prob(m, n, lambdas, k))\n",
    "\n",
    "print(f\"pp_lm1: {pp_lm1}\")\n",
    "print(f\"pp_lm2: {pp_lm2}\")"
   ]
  },
  {
   "cell_type": "markdown",
   "metadata": {},
   "source": [
    "### 7. Generating text using both model"
   ]
  },
  {
   "cell_type": "code",
   "execution_count": null,
   "metadata": {},
   "outputs": [],
   "source": [
    "import random\n",
    "\n",
    "def generate_text(model, start, length, prob_func):\n",
    "    text = list(start)\n",
    "    for _ in range(length - len(start)):\n",
    "        prefix = tuple(text[-3:])\n",
    "        if prefix not in model or not model[prefix] or sum(model[prefix].values()) == 0:\n",
    "            next_words = random.choice(train_tokens)[:3]\n",
    "            for next_word in next_words:\n",
    "                text.append(next_word)\n",
    "        else:\n",
    "            next_word = max(model[prefix], key=lambda x: prob_func(model, prefix + (x,)))\n",
    "            text.append(next_word)\n",
    "    return ' '.join(text)\n",
    "\n",
    "\n",
    "start_tokens = list(random.choice(train_tokens)[:3])\n",
    "backoff_text = generate_text(ngram_model, start_tokens, 50, backoff_prob)\n",
    "# start_tokens = list(random.choice(train_tokens)[:3])\n",
    "interpolation_text = generate_text(ngram_model, start_tokens, 50, lambda m, n: interpolated_prob(m, n, lambdas, k))\n",
    "print(f\"Backoff Model: {backoff_text}\")\n",
    "print(f\"Interpolation Model: {interpolation_text}\")\n"
   ]
  }
 ],
 "metadata": {
  "kernelspec": {
   "display_name": "Python 3",
   "language": "python",
   "name": "python3"
  },
  "language_info": {
   "codemirror_mode": {
    "name": "ipython",
    "version": 3
   },
   "file_extension": ".py",
   "mimetype": "text/x-python",
   "name": "python",
   "nbconvert_exporter": "python",
   "pygments_lexer": "ipython3",
   "version": "3.12.2"
  }
 },
 "nbformat": 4,
 "nbformat_minor": 2
}
