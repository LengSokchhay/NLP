{
 "cells": [
  {
   "cell_type": "markdown",
   "metadata": {},
   "source": [
    "1. Data Preparation"
   ]
  },
  {
   "cell_type": "code",
   "execution_count": 20,
   "metadata": {},
   "outputs": [
    {
     "name": "stdout",
     "output_type": "stream",
     "text": [
      "Training and testing datasets created successfully.\n"
     ]
    }
   ],
   "source": [
    "import pandas as pd\n",
    "from sklearn.model_selection import train_test_split\n",
    "\n",
    "# Load data from files\n",
    "with open('data/positive-reviews.txt', 'r', encoding='utf-8') as pos_file:\n",
    "    positive_reviews = pos_file.readlines()\n",
    "\n",
    "with open('data/negative-reviews.txt', 'r', encoding='utf-8') as neg_file:\n",
    "    negative_reviews = neg_file.readlines()\n",
    "\n",
    "# Split data into training (80%) and testing (20%) sets\n",
    "train_pos, test_pos = train_test_split(positive_reviews, test_size=0.2, random_state=42)\n",
    "train_neg, test_neg = train_test_split(negative_reviews, test_size=0.2, random_state=42)\n",
    "\n",
    "# Combine positive and negative reviews for training and testing\n",
    "def create_dataset(positive, negative):\n",
    "    data = pd.DataFrame({\n",
    "        'review': positive + negative,\n",
    "        'label': [1] * len(positive) + [0] * len(negative)  # 1 for positive, 0 for negative\n",
    "    })\n",
    "    return data\n",
    "\n",
    "train_data = create_dataset(train_pos, train_neg)\n",
    "test_data = create_dataset(test_pos, test_neg)\n",
    "\n",
    "# Save data to CSV files for later use (optional)\n",
    "train_data.to_csv('data/train_data.csv', index=False)\n",
    "test_data.to_csv('data/test_data.csv', index=False)\n",
    "\n",
    "print(\"Training and testing datasets created successfully.\")\n"
   ]
  },
  {
   "cell_type": "markdown",
   "metadata": {},
   "source": [
    "2. Data Processing"
   ]
  },
  {
   "cell_type": "code",
   "execution_count": 21,
   "metadata": {},
   "outputs": [
    {
     "name": "stderr",
     "output_type": "stream",
     "text": [
      "[nltk_data] Downloading package stopwords to\n",
      "[nltk_data]     C:\\Users\\maste\\AppData\\Roaming\\nltk_data...\n",
      "[nltk_data]   Package stopwords is already up-to-date!\n",
      "[nltk_data] Downloading package wordnet to\n",
      "[nltk_data]     C:\\Users\\maste\\AppData\\Roaming\\nltk_data...\n",
      "[nltk_data]   Package wordnet is already up-to-date!\n"
     ]
    }
   ],
   "source": [
    "import re\n",
    "from nltk.corpus import stopwords\n",
    "from nltk.stem import WordNetLemmatizer\n",
    "import nltk\n",
    "\n",
    "# Download required resources\n",
    "nltk.download('stopwords')\n",
    "nltk.download('wordnet')\n",
    "\n",
    "# Set stopwords and lemmatizer\n",
    "stop_words = set(stopwords.words('english'))\n",
    "lemmatizer = WordNetLemmatizer()\n",
    "\n",
    "def preprocess_review(review):\n",
    "    words = re.findall(r'\\w+', review.lower())  # Tokenize and lowercase\n",
    "    words = [lemmatizer.lemmatize(word) for word in words if word not in stop_words]\n",
    "    return words\n",
    "\n",
    "def preprocess_data(data):\n",
    "    return [preprocess_review(review) for review in data]\n",
    "\n"
   ]
  },
  {
   "cell_type": "markdown",
   "metadata": {},
   "source": [
    "Step 3: Feature Extraction"
   ]
  },
  {
   "cell_type": "code",
   "execution_count": 31,
   "metadata": {},
   "outputs": [
    {
     "name": "stdout",
     "output_type": "stream",
     "text": [
      "\n",
      "Train Features:\n",
      "\n",
      "|          |   Positive Words |   Negative Words |   Contains \"No\" |   Pronoun Count |   Contains \"!\" |   Log of Review Length |\n",
      "|:---------|-----------------:|-----------------:|----------------:|----------------:|---------------:|-----------------------:|\n",
      "| Review 0 |                1 |                0 |               0 |               1 |              1 |                  1.609 |\n",
      "| Review 1 |                0 |                2 |               0 |               0 |              0 |                  1.792 |\n",
      "| Review 2 |                1 |                0 |               1 |               0 |              0 |                  1.792 |\n",
      "\n",
      "Test Features:\n",
      "\n",
      "|          |   Positive Words |   Negative Words |   Contains \"No\" |   Pronoun Count |   Contains \"!\" |   Log of Review Length |\n",
      "|:---------|-----------------:|-----------------:|----------------:|----------------:|---------------:|-----------------------:|\n",
      "| Review 0 |                0 |                0 |               0 |               1 |              1 |                  1.609 |\n",
      "| Review 1 |                0 |                1 |               0 |               0 |              0 |                  1.099 |\n",
      "| Review 2 |                1 |                0 |               0 |               1 |              0 |                  1.792 |\n"
     ]
    }
   ],
   "source": [
    "import numpy as np\n",
    "import re\n",
    "import pandas as pd\n",
    "from math import log\n",
    "import chardet\n",
    "\n",
    "# Detect encoding for the positive words file\n",
    "with open('data/positive-words.txt', 'rb') as f:\n",
    "    pos_encoding = chardet.detect(f.read())['encoding']\n",
    "\n",
    "with open('data/negative-words.txt', 'rb') as f:\n",
    "    neg_encoding = chardet.detect(f.read())['encoding']\n",
    "\n",
    "# Load positive and negative words using the detected encoding\n",
    "positive_words = set(open('data/positive-words.txt', encoding=pos_encoding).read().splitlines())\n",
    "negative_words = set(open('data/negative-words.txt', encoding=neg_encoding).read().splitlines())\n",
    "\n",
    "# Function to extract features from reviews\n",
    "def extract_features(review):\n",
    "    words = re.findall(r'\\w+', review.lower())\n",
    "    pos_count = sum(word in positive_words for word in words)\n",
    "    neg_count = sum(word in negative_words for word in words)\n",
    "    contains_no = int('no' in words)\n",
    "    pronoun_count = sum(word in {'i', 'me', 'my', 'you', 'your'} for word in words)\n",
    "    contains_exclamation = int('!' in review)\n",
    "    review_length_log = log(len(words) + 1)\n",
    "    return [pos_count, neg_count, contains_no, pronoun_count, contains_exclamation, round(review_length_log, 3)]\n",
    "\n",
    "# Example train_data and test_data\n",
    "train_data = {\n",
    "    'review': ['I love this product!', 'It is terrible and bad.', 'No way this is good.'],\n",
    "    'label': [1, 0, 0]  # 1 for positive, 0 for negative\n",
    "}\n",
    "test_data = {\n",
    "    'review': ['You must try it!', 'Awful experience.', 'I feel happy and content.'],\n",
    "    'label': [1, 0, 1]  # Ground truth for evaluation\n",
    "}\n",
    "\n",
    "# Apply feature extraction\n",
    "train_features = [extract_features(r) for r in train_data['review']]\n",
    "test_features = [extract_features(r) for r in test_data['review']]\n",
    "\n",
    "# Convert features to NumPy arrays for sklearn compatibility\n",
    "train_features = np.array(train_features)\n",
    "test_features = np.array(test_features)\n",
    "\n",
    "# Get labels for training and testing\n",
    "train_labels = np.array(train_data['label'])\n",
    "test_labels = np.array(test_data['label'])\n",
    "\n",
    "# Optional: Convert to DataFrame for better readability\n",
    "columns = ['Positive Words', 'Negative Words', 'Contains \"No\"', 'Pronoun Count', 'Contains \"!\"', 'Log of Review Length']\n",
    "train_df = pd.DataFrame(train_features, columns=columns, index=[f\"Review {i}\" for i in range(len(train_features))])\n",
    "test_df = pd.DataFrame(test_features, columns=columns, index=[f\"Review {i}\" for i in range(len(test_features))])\n",
    "\n",
    "# Print Train and Test DataFrames for inspection\n",
    "print(\"\\nTrain Features:\\n\")\n",
    "print(train_df.to_markdown(index=True))\n",
    "\n",
    "print(\"\\nTest Features:\\n\")\n",
    "print(test_df.to_markdown(index=True))\n",
    "\n",
    "# Save the features and labels to file for future use (optional)\n",
    "np.save('data/train/train_features.npy', train_features)\n",
    "np.save('data/train/train_labels.npy', train_labels)\n",
    "np.save('data/train/test_features.npy', test_features)\n",
    "np.save('data/train/test_labels.npy', test_labels)\n"
   ]
  },
  {
   "cell_type": "markdown",
   "metadata": {},
   "source": [
    "4. Train Model and Evaluate"
   ]
  },
  {
   "cell_type": "code",
   "execution_count": 27,
   "metadata": {},
   "outputs": [
    {
     "name": "stdout",
     "output_type": "stream",
     "text": [
      "\n",
      "Model Accuracies:\n",
      "Logistic Regression Accuracy: 0.6666666666666666\n",
      "Random Forest Accuracy: 0.6666666666666666\n",
      "SVM Accuracy: 0.3333333333333333\n"
     ]
    }
   ],
   "source": [
    "import numpy as np\n",
    "from sklearn.linear_model import LogisticRegression\n",
    "from sklearn.ensemble import RandomForestClassifier\n",
    "from sklearn.svm import SVC\n",
    "from sklearn.metrics import accuracy_score\n",
    "\n",
    "# Load the saved features and labels\n",
    "train_features = np.load('train_features.npy')\n",
    "train_labels = np.load('train_labels.npy')\n",
    "test_features = np.load('test_features.npy')\n",
    "test_labels = np.load('test_labels.npy')\n",
    "\n",
    "# Function to train and evaluate a model\n",
    "def train_and_evaluate(model, train_features, train_labels, test_features, test_labels):\n",
    "    # Train the model\n",
    "    model.fit(train_features, train_labels)\n",
    "    \n",
    "    # Predict the test data\n",
    "    predictions = model.predict(test_features)\n",
    "    \n",
    "    # Calculate accuracy\n",
    "    accuracy = accuracy_score(test_labels, predictions)\n",
    "    \n",
    "    return accuracy\n",
    "\n",
    "def main(train_features, train_labels, test_features, test_labels):\n",
    "    # Initialize models\n",
    "    models = {\n",
    "        \"Logistic Regression\": LogisticRegression(),\n",
    "        \"Random Forest\": RandomForestClassifier(),\n",
    "        \"SVM\": SVC()\n",
    "    }\n",
    "    \n",
    "    # Evaluate each model and print accuracy\n",
    "    print(\"\\nModel Accuracies:\")\n",
    "    for model_name, model in models.items():\n",
    "        accuracy = train_and_evaluate(model, train_features, train_labels, test_features, test_labels)\n",
    "        print(f\"{model_name} Accuracy: {accuracy}\")\n",
    "\n",
    "if __name__ == \"__main__\":\n",
    "    # Call main function with the data\n",
    "    main(train_features, train_labels, test_features, test_labels)\n"
   ]
  },
  {
   "cell_type": "markdown",
   "metadata": {},
   "source": [
    "5. Report Result"
   ]
  },
  {
   "cell_type": "code",
   "execution_count": 28,
   "metadata": {},
   "outputs": [
    {
     "name": "stdout",
     "output_type": "stream",
     "text": [
      "                 Model  Accuracy\n",
      "0  Logistic Regression  0.666667\n",
      "1        Random Forest  0.666667\n",
      "2                  SVM  0.333333\n"
     ]
    }
   ],
   "source": [
    "# Initialize models\n",
    "models = {\n",
    "    \"Logistic Regression\": LogisticRegression(),\n",
    "    \"Random Forest\": RandomForestClassifier(),\n",
    "    \"SVM\": SVC()\n",
    "}\n",
    "\n",
    "# Collect model names and accuracies\n",
    "results = {'Model': [], 'Accuracy': []}\n",
    "\n",
    "# Evaluate each model\n",
    "for model_name, model in models.items():\n",
    "    accuracy = train_and_evaluate(model, train_features, train_labels, test_features, test_labels)\n",
    "    results['Model'].append(model_name)\n",
    "    results['Accuracy'].append(accuracy)\n",
    "\n",
    "# Create DataFrame from results\n",
    "results_df = pd.DataFrame(results)\n",
    "\n",
    "# Print the results DataFrame\n",
    "print(results_df)"
   ]
  }
 ],
 "metadata": {
  "kernelspec": {
   "display_name": "base",
   "language": "python",
   "name": "python3"
  },
  "language_info": {
   "codemirror_mode": {
    "name": "ipython",
    "version": 3
   },
   "file_extension": ".py",
   "mimetype": "text/x-python",
   "name": "python",
   "nbconvert_exporter": "python",
   "pygments_lexer": "ipython3",
   "version": "3.12.7"
  }
 },
 "nbformat": 4,
 "nbformat_minor": 2
}
